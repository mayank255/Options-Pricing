{
 "cells": [
  {
   "cell_type": "code",
   "execution_count": 1,
   "id": "a49b8fcc",
   "metadata": {},
   "outputs": [],
   "source": [
    "import pandas\n",
    "from project1 import *\n",
    "from multiassetoptions1 import *\n",
    "from scipy.stats import norm"
   ]
  },
  {
   "cell_type": "markdown",
   "id": "196353cd",
   "metadata": {},
   "source": [
    "# Single Asset Options Pricing"
   ]
  },
  {
   "cell_type": "raw",
   "id": "38762b61",
   "metadata": {},
   "source": [
    "spot_price = 100   # Current price of the underlying asset (e.g., stock)\n",
    "strike_price = 105  # Option's strike price\n",
    "time_to_expiration = 0.5  # 6 months to expiration\n",
    "risk_free_rate = 0.05   # 5% annualized risk-free rate\n",
    "volatility = 0.2       # 20% annualized volatility"
   ]
  },
  {
   "cell_type": "code",
   "execution_count": 2,
   "id": "a380cddb",
   "metadata": {},
   "outputs": [],
   "source": [
    "asset = Asset(\"REL\", 300, 0, volatility = 0.2,rate = 0.05)"
   ]
  },
  {
   "cell_type": "code",
   "execution_count": 3,
   "id": "cf28cdcf",
   "metadata": {},
   "outputs": [
    {
     "data": {
      "text/plain": [
       "<project1.Asset at 0x1b539859850>"
      ]
     },
     "execution_count": 3,
     "metadata": {},
     "output_type": "execute_result"
    }
   ],
   "source": [
    "asset"
   ]
  },
  {
   "cell_type": "code",
   "execution_count": 4,
   "id": "35f26259",
   "metadata": {},
   "outputs": [],
   "source": [
    "EuroCallOption =EuropeanOption(\"Option1\", asset, exercise_price=240,\n",
    "                            option_type='call', maturity_time=1)"
   ]
  },
  {
   "cell_type": "code",
   "execution_count": 19,
   "id": "f404eab9",
   "metadata": {},
   "outputs": [
    {
     "data": {
      "text/plain": [
       "84.18745825582776"
      ]
     },
     "execution_count": 19,
     "metadata": {},
     "output_type": "execute_result"
    }
   ],
   "source": [
    "x = 0\n",
    "for i in range(10):\n",
    "    x+=EuroCallOption.monte_carlo_value(2000,3, 0.05, 0.4)\n",
    "x/10\n"
   ]
  },
  {
   "cell_type": "code",
   "execution_count": null,
   "id": "dacf8d6e",
   "metadata": {},
   "outputs": [],
   "source": [
    "x = 0\n",
    "for i in range(10):\n",
    "    x+=EuroCallOption.monte_carlo_value(2000,3, 0.05, 0.4)\n",
    "x/10\n"
   ]
  },
  {
   "cell_type": "code",
   "execution_count": 7,
   "id": "658b5b53",
   "metadata": {},
   "outputs": [],
   "source": [
    "def black_scholes_call(S, K, T, r, sigma):\n",
    "    d1 = (np.log(S/K) + (r + 0.5 * sigma**2) * T) / (sigma * np.sqrt(T))\n",
    "    d2 = d1 - sigma * np.sqrt(T)\n",
    "    call_price = S * norm.cdf(d1) - K * np.exp(-r * T) * norm.cdf(d2)\n",
    "    return call_price"
   ]
  },
  {
   "cell_type": "code",
   "execution_count": 8,
   "id": "bcdfe3e5",
   "metadata": {},
   "outputs": [
    {
     "data": {
      "text/plain": [
       "86.92922273050002"
      ]
     },
     "execution_count": 8,
     "metadata": {},
     "output_type": "execute_result"
    }
   ],
   "source": [
    "black_scholes_call(300,240,1,0.05,0.4)\n",
    "                  "
   ]
  },
  {
   "cell_type": "code",
   "execution_count": 29,
   "id": "f90a663a",
   "metadata": {},
   "outputs": [],
   "source": [
    "def monte_carlo_call_option_price(S, K, T, r, sigma, num_simulations=100, num_steps=int(0.5*365)):\n",
    "    # num_steps = int(T * 365)  # Number of time steps (assuming daily steps)\n",
    "    dt = T / num_steps\n",
    "\n",
    "    option_prices = []\n",
    "\n",
    "    for _ in range(num_simulations):\n",
    "        S_t = S\n",
    "        for _ in range(num_steps):\n",
    "            # Generate a random daily return (log-normal distribution)\n",
    "            daily_return = np.random.normal((r - 0.5 * sigma**2) * dt, sigma * np.sqrt(dt))\n",
    "            \n",
    "            S_t *= np.exp(daily_return)\n",
    "\n",
    "        # Calculate the option payoff at expiration (European Call)\n",
    "        option_payoff = max(S_t - K, 0)\n",
    "        option_prices.append(option_payoff)\n",
    "\n",
    "    # Discount the average option payoff to present value\n",
    "    option_price = np.exp(-r * T) * np.mean(option_prices)\n",
    "\n",
    "    return option_price"
   ]
  },
  {
   "cell_type": "code",
   "execution_count": 30,
   "id": "0825b324",
   "metadata": {},
   "outputs": [
    {
     "data": {
      "text/plain": [
       "84.02546632644109"
      ]
     },
     "execution_count": 30,
     "metadata": {},
     "output_type": "execute_result"
    }
   ],
   "source": [
    "monte_carlo_call_option_price(300,240,1,0.05,0.4)"
   ]
  },
  {
   "cell_type": "code",
   "execution_count": null,
   "id": "54515aaa",
   "metadata": {},
   "outputs": [],
   "source": []
  }
 ],
 "metadata": {
  "kernelspec": {
   "display_name": "Python 3 (ipykernel)",
   "language": "python",
   "name": "python3"
  },
  "language_info": {
   "codemirror_mode": {
    "name": "ipython",
    "version": 3
   },
   "file_extension": ".py",
   "mimetype": "text/x-python",
   "name": "python",
   "nbconvert_exporter": "python",
   "pygments_lexer": "ipython3",
   "version": "3.9.7"
  }
 },
 "nbformat": 4,
 "nbformat_minor": 5
}
